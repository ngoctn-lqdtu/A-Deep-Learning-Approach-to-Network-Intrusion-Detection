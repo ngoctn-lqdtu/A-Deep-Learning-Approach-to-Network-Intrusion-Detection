{
  "nbformat": 4,
  "nbformat_minor": 0,
  "metadata": {
    "colab": {
      "name": "KDD99_5_class_NDAE_classifier",
      "provenance": [],
      "collapsed_sections": []
    },
    "kernelspec": {
      "name": "python3",
      "display_name": "Python 3"
    },
    "accelerator": "GPU"
  },
  "cells": [
    {
      "cell_type": "markdown",
      "metadata": {
        "id": "qAoMfOWAW0oG",
        "colab_type": "text"
      },
      "source": [
        "#Keras implementation\n",
        "This is an implementation on Google Colab Notebook of the deep learning classification model constructed using stacked nonsymmetric deep autoencoder (NDAE) and Random Forest algorithm on KDD Cup'99 dataset. This model is proposed in the article \"A Deep Learning Approach to Network Intrusion Detection\" (https://ieeexplore.ieee.org/document/8264962)\n",
        "\n"
      ]
    },
    {
      "cell_type": "code",
      "metadata": {
        "id": "BSpTQ5ciLScO",
        "colab_type": "code",
        "outputId": "497ed8e8-d7cc-4a94-8589-dd5eda3813ca",
        "colab": {
          "base_uri": "https://localhost:8080/",
          "height": 34
        }
      },
      "source": [
        "from google.colab import drive\n",
        "drive.mount('/content/drive',force_remount=True)"
      ],
      "execution_count": 1,
      "outputs": [
        {
          "output_type": "stream",
          "text": [
            "Mounted at /content/drive\n"
          ],
          "name": "stdout"
        }
      ]
    },
    {
      "cell_type": "code",
      "metadata": {
        "id": "TIPuVHnImEAx",
        "colab_type": "code",
        "outputId": "58313b3e-2454-4d6c-ba88-5c32cc629869",
        "colab": {
          "base_uri": "https://localhost:8080/",
          "height": 51
        }
      },
      "source": [
        "%tensorflow_version 1.x\n",
        "import tensorflow as tf\n",
        "print(tf.__version__)"
      ],
      "execution_count": 2,
      "outputs": [
        {
          "output_type": "stream",
          "text": [
            "TensorFlow 1.x selected.\n",
            "1.15.2\n"
          ],
          "name": "stdout"
        }
      ]
    },
    {
      "cell_type": "markdown",
      "metadata": {
        "id": "v2lQxbJi2F4r",
        "colab_type": "text"
      },
      "source": [
        "#Prepare data\n",
        "The KDD Cup’99 dataset is loaded from .csv files, which contains 494,021 training records and 311,029 testing records.\n",
        "\n",
        "This dataset needs pre-processing to be successfully utilised with stacked NDAE model.This is because our model operates using only numeric values but one record in the dataset has a mixture of numeric and symbolic values, so a data transformation was needed to convert them. In addition integer values also need normalisation as they were mixed with ﬂoating point values between 0 and 1, which would make learning difﬁcult.\n",
        "\n"
      ]
    },
    {
      "cell_type": "markdown",
      "metadata": {
        "id": "4x0brecbZh2h",
        "colab_type": "text"
      },
      "source": [
        "Load data from .csv file"
      ]
    },
    {
      "cell_type": "code",
      "metadata": {
        "id": "qi4k9QhPhioH",
        "colab_type": "code",
        "colab": {}
      },
      "source": [
        "import pandas\n",
        "data_train = pandas.read_csv('/content/drive/My Drive/NDAE_IEEE2018/data/kddcup.data_10_percent_train_5_class.csv')\n",
        "data_test = pandas.read_csv('/content/drive/My Drive/NDAE_IEEE2018/data/kddcup.data_10_percent_test_5_class.csv')\n",
        "x_train =data_train.iloc[:, :-1].values\n",
        "y_train = data_train.iloc[:, 41].values\n",
        "x_test =data_test.iloc[:, :-1].values\n",
        "y_test = data_test.iloc[:, 41].values"
      ],
      "execution_count": 0,
      "outputs": []
    },
    {
      "cell_type": "markdown",
      "metadata": {
        "id": "ft8-HYrCZTT1",
        "colab_type": "text"
      },
      "source": [
        "Firstly, the symbolic features: Protocol type, Service, Flag are transformed to numeric type, then these are encoded by one-hot vectors."
      ]
    },
    {
      "cell_type": "code",
      "metadata": {
        "id": "p6zrtMMm1kGD",
        "colab_type": "code",
        "colab": {}
      },
      "source": [
        "\n",
        "import numpy as np\n",
        "#Concate training and testing data to do the same preprocess steps\n",
        "x = np.concatenate((x_train, x_test), axis = 0)\n",
        "\n",
        "#Transform to numeric features\n",
        "from sklearn.preprocessing import LabelEncoder, OneHotEncoder\n",
        "# Encode Protocol type feature (3 different values)\n",
        "labelencoder_x_1 = LabelEncoder()\n",
        "x[:, 1] = labelencoder_x_1.fit_transform(x[:, 1])\n",
        "# Encode Service feature (67 different values)\n",
        "labelencoder_x_2 = LabelEncoder()\n",
        "x[:, 2] = labelencoder_x_2.fit_transform(x[:, 2])\n",
        "\n",
        "# Encode Flag feature (11 different values)\n",
        "labelencoder_x_3 = LabelEncoder()\n",
        "x[:, 3] = labelencoder_x_3.fit_transform(x[:, 3])\n",
        "\n",
        "\n",
        "# Encoded by one-hot vector\n",
        "from sklearn.compose import ColumnTransformer\n",
        "# transform the second feature to 3-dim one-hot vector\n",
        "ct = ColumnTransformer([(\"ProtocolType\", OneHotEncoder(), [1])], remainder = 'passthrough')\n",
        "x = ct.fit_transform(x)\n",
        "# transform the third feature to 67-dim one-hot vector\n",
        "ct = ColumnTransformer([(\"Service\", OneHotEncoder(), [4])], remainder = 'passthrough')\n",
        "x = ct.fit_transform(x)\n",
        "# transform the fourth feature to 11-dim one-hot vector\n",
        "ct = ColumnTransformer([(\"Flag\", OneHotEncoder(), [71])], remainder = 'passthrough')\n",
        "x = ct.fit_transform(x)"
      ],
      "execution_count": 0,
      "outputs": []
    },
    {
      "cell_type": "markdown",
      "metadata": {
        "id": "vLXNt5zGazMv",
        "colab_type": "text"
      },
      "source": [
        "Labels are also converted to numeric values"
      ]
    },
    {
      "cell_type": "code",
      "metadata": {
        "id": "AYCc-PqHiXhp",
        "colab_type": "code",
        "colab": {}
      },
      "source": [
        "# Encode label (5 labels)\n",
        "y = np.concatenate((y_train, y_test), axis = 0)\n",
        "labelencoder_y = LabelEncoder()\n",
        "y = labelencoder_y.fit_transform(y)"
      ],
      "execution_count": 0,
      "outputs": []
    },
    {
      "cell_type": "markdown",
      "metadata": {
        "id": "eqFzpwhtbJVL",
        "colab_type": "text"
      },
      "source": [
        "Data is normalized to ﬂoating point values between 0 and 1"
      ]
    },
    {
      "cell_type": "code",
      "metadata": {
        "id": "8Ce4PxDSjVlp",
        "colab_type": "code",
        "colab": {}
      },
      "source": [
        "from sklearn.preprocessing import MinMaxScaler\n",
        "scaler = MinMaxScaler()\n",
        "x = scaler.fit_transform(x)\n",
        "\n",
        "# split to training and testing data\n",
        "x_train = x[:494021,:]\n",
        "x_test = x[494021:,:]\n",
        "\n",
        "y_train = y[:494021]\n",
        "y_test = y[494021:]"
      ],
      "execution_count": 0,
      "outputs": []
    },
    {
      "cell_type": "markdown",
      "metadata": {
        "id": "JXogdj5yCD11",
        "colab_type": "text"
      },
      "source": [
        "\n",
        "#Construct classifier\n",
        "The model uses two NDAEs arranged in a stack, is combined with the RF algorithm.\n",
        "\n",
        "![Stacked NDAE Classification Model](https://drive.google.com/uc?id=1paKfuUYEVtBmOfkrMdzzfElMwGyMd2eC)\n",
        "\n",
        "\n",
        "\n",
        "\n",
        "\n",
        "\n"
      ]
    },
    {
      "cell_type": "code",
      "metadata": {
        "id": "WQrk7Sg8QXml",
        "colab_type": "code",
        "outputId": "ced2f7b8-22b1-4d0f-b8d1-331aa53b3593",
        "colab": {
          "base_uri": "https://localhost:8080/",
          "height": 51
        }
      },
      "source": [
        "import keras\n",
        "from keras.layers import Input, Dense\n",
        "from keras.models import Model\n",
        "from keras import backend as K\n",
        "import tensorflow as tf\n",
        "%tensorflow_version 1.x\n",
        "import tensorflow as tf\n",
        "print(tf.__version__)"
      ],
      "execution_count": 7,
      "outputs": [
        {
          "output_type": "stream",
          "text": [
            "1.15.2\n"
          ],
          "name": "stdout"
        },
        {
          "output_type": "stream",
          "text": [
            "Using TensorFlow backend.\n"
          ],
          "name": "stderr"
        }
      ]
    },
    {
      "cell_type": "code",
      "metadata": {
        "id": "_Cb_I_AWEC0t",
        "colab_type": "code",
        "colab": {}
      },
      "source": [
        "class DenseTranspose(keras.layers.Layer):\n",
        "  def __init__(self, dense, activation=None, **kwargs):\n",
        "    self.dense = dense\n",
        "    self.activation = keras.activations.get(activation)\n",
        "    super().__init__(**kwargs)\n",
        "  def build(self, batch_input_shape):\n",
        "    self.biases = self.add_weight(name=\"bias\", initializer=\"zeros\",shape=[self.dense.input_shape[-1]])\n",
        "    self.W = tf.transpose(self.dense.weights[0]) \n",
        "    super().build(batch_input_shape)\n",
        "  def compute_output_shape(self, input_shape):\n",
        "    return (input_shape[0], self.dense.input_shape[-1])\n",
        "  def call(self, inputs):\n",
        "    z = tf.matmul(inputs, self.W)\n",
        "    return self.activation(z + self.biases)"
      ],
      "execution_count": 0,
      "outputs": []
    },
    {
      "cell_type": "markdown",
      "metadata": {
        "id": "fllklKctCPZl",
        "colab_type": "text"
      },
      "source": [
        "Contruct the first autoencoder, and training it.\n"
      ]
    },
    {
      "cell_type": "code",
      "metadata": {
        "id": "OCYK3zuYCMvV",
        "colab_type": "code",
        "outputId": "24f1f44e-5916-4b81-9111-adf08e461a28",
        "colab": {
          "base_uri": "https://localhost:8080/",
          "height": 88
        }
      },
      "source": [
        "K.clear_session()\n",
        "num_hidden = (119, 14, 28, 28)\n",
        "\n",
        "Dense_11 = Dense(units=num_hidden[1], activation='sigmoid')\n",
        "Dense_12 = Dense(units=num_hidden[2], activation='sigmoid')\n",
        "Dense_13 = Dense(units=num_hidden[3], activation='sigmoid')\n",
        "\n",
        "inputs_1 = Input(shape=(num_hidden[0],))\n",
        "\n",
        "#Encoder\n",
        "encoded_11 = Dense_11(inputs_1)\n",
        "encoded_12 = Dense_12(encoded_11)\n",
        "encoded_13 = Dense_13(encoded_12)\n",
        "\n",
        "#Decoder\n",
        "decoded_11 = DenseTranspose(Dense_13, activation='sigmoid')(encoded_13)\n",
        "decoded_12 = DenseTranspose(Dense_12, activation='sigmoid')(decoded_11)\n",
        "outputs_1 = DenseTranspose(Dense_11, activation='sigmoid')(decoded_12)\n",
        "\n",
        "AE_1=Model(inputs_1, outputs_1)\n",
        "Encoder_1=Model(inputs_1, decoded_12)"
      ],
      "execution_count": 9,
      "outputs": [
        {
          "output_type": "stream",
          "text": [
            "WARNING:tensorflow:From /tensorflow-1.15.2/python3.6/tensorflow_core/python/ops/resource_variable_ops.py:1630: calling BaseResourceVariable.__init__ (from tensorflow.python.ops.resource_variable_ops) with constraint is deprecated and will be removed in a future version.\n",
            "Instructions for updating:\n",
            "If using Keras pass *_constraint arguments to layers.\n"
          ],
          "name": "stdout"
        }
      ]
    },
    {
      "cell_type": "code",
      "metadata": {
        "id": "-0j3oCuiKHNR",
        "colab_type": "code",
        "outputId": "496e164d-ba25-4ae1-e4f1-d3b90c224cf2",
        "colab": {
          "base_uri": "https://localhost:8080/",
          "height": 1000
        }
      },
      "source": [
        "AE_1.compile(optimizer='rmsprop', loss= 'mse')\n",
        "AE_1.fit(x_train,x_train,epochs=100,batch_size=256,shuffle=True)"
      ],
      "execution_count": 10,
      "outputs": [
        {
          "output_type": "stream",
          "text": [
            "WARNING:tensorflow:From /usr/local/lib/python3.6/dist-packages/keras/backend/tensorflow_backend.py:422: The name tf.global_variables is deprecated. Please use tf.compat.v1.global_variables instead.\n",
            "\n",
            "Epoch 1/100\n",
            "494021/494021 [==============================] - 7s 14us/step - loss: 0.0339\n",
            "Epoch 2/100\n",
            "494021/494021 [==============================] - 7s 13us/step - loss: 0.0048\n",
            "Epoch 3/100\n",
            "494021/494021 [==============================] - 6s 13us/step - loss: 0.0024\n",
            "Epoch 4/100\n",
            "494021/494021 [==============================] - 6s 13us/step - loss: 0.0020\n",
            "Epoch 5/100\n",
            "494021/494021 [==============================] - 6s 13us/step - loss: 0.0017\n",
            "Epoch 6/100\n",
            "494021/494021 [==============================] - 6s 13us/step - loss: 0.0015\n",
            "Epoch 7/100\n",
            "494021/494021 [==============================] - 6s 13us/step - loss: 0.0014\n",
            "Epoch 8/100\n",
            "494021/494021 [==============================] - 6s 13us/step - loss: 0.0013\n",
            "Epoch 9/100\n",
            "494021/494021 [==============================] - 6s 13us/step - loss: 0.0013\n",
            "Epoch 10/100\n",
            "494021/494021 [==============================] - 6s 13us/step - loss: 0.0012\n",
            "Epoch 11/100\n",
            "494021/494021 [==============================] - 6s 13us/step - loss: 0.0012\n",
            "Epoch 12/100\n",
            "494021/494021 [==============================] - 6s 13us/step - loss: 0.0012\n",
            "Epoch 13/100\n",
            "494021/494021 [==============================] - 6s 13us/step - loss: 0.0011\n",
            "Epoch 14/100\n",
            "494021/494021 [==============================] - 6s 13us/step - loss: 0.0011\n",
            "Epoch 15/100\n",
            "494021/494021 [==============================] - 7s 13us/step - loss: 0.0011\n",
            "Epoch 16/100\n",
            "494021/494021 [==============================] - 7s 13us/step - loss: 0.0011\n",
            "Epoch 17/100\n",
            "494021/494021 [==============================] - 6s 13us/step - loss: 0.0011\n",
            "Epoch 18/100\n",
            "494021/494021 [==============================] - 6s 13us/step - loss: 0.0011\n",
            "Epoch 19/100\n",
            "494021/494021 [==============================] - 6s 13us/step - loss: 0.0010\n",
            "Epoch 20/100\n",
            "494021/494021 [==============================] - 6s 13us/step - loss: 0.0010\n",
            "Epoch 21/100\n",
            "494021/494021 [==============================] - 6s 13us/step - loss: 0.0010\n",
            "Epoch 22/100\n",
            "494021/494021 [==============================] - 6s 13us/step - loss: 0.0010\n",
            "Epoch 23/100\n",
            "494021/494021 [==============================] - 6s 13us/step - loss: 0.0010\n",
            "Epoch 24/100\n",
            "494021/494021 [==============================] - 6s 13us/step - loss: 9.9819e-04\n",
            "Epoch 25/100\n",
            "494021/494021 [==============================] - 7s 14us/step - loss: 9.9154e-04\n",
            "Epoch 26/100\n",
            "494021/494021 [==============================] - 7s 14us/step - loss: 9.8605e-04\n",
            "Epoch 27/100\n",
            "494021/494021 [==============================] - 7s 14us/step - loss: 9.8066e-04\n",
            "Epoch 28/100\n",
            "494021/494021 [==============================] - 6s 13us/step - loss: 9.7636e-04\n",
            "Epoch 29/100\n",
            "494021/494021 [==============================] - 6s 13us/step - loss: 9.7219e-04\n",
            "Epoch 30/100\n",
            "494021/494021 [==============================] - 6s 13us/step - loss: 9.6829e-04\n",
            "Epoch 31/100\n",
            "494021/494021 [==============================] - 6s 13us/step - loss: 9.6407e-04\n",
            "Epoch 32/100\n",
            "494021/494021 [==============================] - 6s 13us/step - loss: 9.6109e-04\n",
            "Epoch 33/100\n",
            "494021/494021 [==============================] - 6s 13us/step - loss: 9.5795e-04\n",
            "Epoch 34/100\n",
            "494021/494021 [==============================] - 6s 13us/step - loss: 9.5483e-04\n",
            "Epoch 35/100\n",
            "494021/494021 [==============================] - 6s 13us/step - loss: 9.5124e-04\n",
            "Epoch 36/100\n",
            "494021/494021 [==============================] - 6s 13us/step - loss: 9.4681e-04\n",
            "Epoch 37/100\n",
            "494021/494021 [==============================] - 6s 13us/step - loss: 9.4080e-04\n",
            "Epoch 38/100\n",
            "494021/494021 [==============================] - 6s 13us/step - loss: 9.3402e-04\n",
            "Epoch 39/100\n",
            "494021/494021 [==============================] - 6s 13us/step - loss: 9.2679e-04\n",
            "Epoch 40/100\n",
            "494021/494021 [==============================] - 6s 13us/step - loss: 9.1791e-04\n",
            "Epoch 41/100\n",
            "494021/494021 [==============================] - 6s 13us/step - loss: 8.7745e-04\n",
            "Epoch 42/100\n",
            "494021/494021 [==============================] - 6s 13us/step - loss: 8.4527e-04\n",
            "Epoch 43/100\n",
            "494021/494021 [==============================] - 6s 13us/step - loss: 8.2641e-04\n",
            "Epoch 44/100\n",
            "494021/494021 [==============================] - 6s 13us/step - loss: 8.1371e-04\n",
            "Epoch 45/100\n",
            "494021/494021 [==============================] - 6s 13us/step - loss: 8.0330e-04\n",
            "Epoch 46/100\n",
            "494021/494021 [==============================] - 7s 13us/step - loss: 7.9432e-04\n",
            "Epoch 47/100\n",
            "494021/494021 [==============================] - 6s 13us/step - loss: 7.8543e-04\n",
            "Epoch 48/100\n",
            "494021/494021 [==============================] - 6s 13us/step - loss: 7.7832e-04\n",
            "Epoch 49/100\n",
            "494021/494021 [==============================] - 7s 13us/step - loss: 7.7221e-04\n",
            "Epoch 50/100\n",
            "494021/494021 [==============================] - 6s 13us/step - loss: 7.6700e-04\n",
            "Epoch 51/100\n",
            "494021/494021 [==============================] - 6s 13us/step - loss: 7.6128e-04\n",
            "Epoch 52/100\n",
            "494021/494021 [==============================] - 6s 13us/step - loss: 7.5136e-04\n",
            "Epoch 53/100\n",
            "494021/494021 [==============================] - 6s 13us/step - loss: 7.4556e-04\n",
            "Epoch 54/100\n",
            "494021/494021 [==============================] - 6s 13us/step - loss: 7.4119e-04\n",
            "Epoch 55/100\n",
            "494021/494021 [==============================] - 6s 13us/step - loss: 7.3749e-04\n",
            "Epoch 56/100\n",
            "494021/494021 [==============================] - 6s 13us/step - loss: 7.3381e-04\n",
            "Epoch 57/100\n",
            "494021/494021 [==============================] - 6s 13us/step - loss: 7.3055e-04\n",
            "Epoch 58/100\n",
            "494021/494021 [==============================] - 6s 13us/step - loss: 7.2723e-04\n",
            "Epoch 59/100\n",
            "494021/494021 [==============================] - 7s 13us/step - loss: 7.2401e-04\n",
            "Epoch 60/100\n",
            "494021/494021 [==============================] - 6s 13us/step - loss: 7.2096e-04\n",
            "Epoch 61/100\n",
            "494021/494021 [==============================] - 6s 13us/step - loss: 7.1812e-04\n",
            "Epoch 62/100\n",
            "494021/494021 [==============================] - 6s 13us/step - loss: 7.1471e-04\n",
            "Epoch 63/100\n",
            "494021/494021 [==============================] - 7s 13us/step - loss: 7.0980e-04\n",
            "Epoch 64/100\n",
            "494021/494021 [==============================] - 7s 13us/step - loss: 7.0528e-04\n",
            "Epoch 65/100\n",
            "494021/494021 [==============================] - 7s 13us/step - loss: 7.0152e-04\n",
            "Epoch 66/100\n",
            "494021/494021 [==============================] - 6s 13us/step - loss: 6.9756e-04\n",
            "Epoch 67/100\n",
            "494021/494021 [==============================] - 6s 13us/step - loss: 6.9408e-04\n",
            "Epoch 68/100\n",
            "494021/494021 [==============================] - 6s 13us/step - loss: 6.9053e-04\n",
            "Epoch 69/100\n",
            "494021/494021 [==============================] - 6s 13us/step - loss: 6.8723e-04\n",
            "Epoch 70/100\n",
            "494021/494021 [==============================] - 7s 13us/step - loss: 6.8405e-04\n",
            "Epoch 71/100\n",
            "494021/494021 [==============================] - 7s 13us/step - loss: 6.8019e-04\n",
            "Epoch 72/100\n",
            "494021/494021 [==============================] - 7s 13us/step - loss: 6.7610e-04\n",
            "Epoch 73/100\n",
            "494021/494021 [==============================] - 6s 13us/step - loss: 6.7223e-04\n",
            "Epoch 74/100\n",
            "494021/494021 [==============================] - 6s 13us/step - loss: 6.6847e-04\n",
            "Epoch 75/100\n",
            "494021/494021 [==============================] - 6s 13us/step - loss: 6.6517e-04\n",
            "Epoch 76/100\n",
            "494021/494021 [==============================] - 6s 13us/step - loss: 6.6240e-04\n",
            "Epoch 77/100\n",
            "494021/494021 [==============================] - 7s 13us/step - loss: 6.5995e-04\n",
            "Epoch 78/100\n",
            "494021/494021 [==============================] - 6s 13us/step - loss: 6.5728e-04\n",
            "Epoch 79/100\n",
            "494021/494021 [==============================] - 6s 13us/step - loss: 6.5479e-04\n",
            "Epoch 80/100\n",
            "494021/494021 [==============================] - 7s 13us/step - loss: 6.5241e-04\n",
            "Epoch 81/100\n",
            "494021/494021 [==============================] - 6s 13us/step - loss: 6.5015e-04\n",
            "Epoch 82/100\n",
            "494021/494021 [==============================] - 6s 13us/step - loss: 6.4802e-04\n",
            "Epoch 83/100\n",
            "494021/494021 [==============================] - 7s 13us/step - loss: 6.4592e-04\n",
            "Epoch 84/100\n",
            "494021/494021 [==============================] - 7s 13us/step - loss: 6.4374e-04\n",
            "Epoch 85/100\n",
            "494021/494021 [==============================] - 7s 13us/step - loss: 6.4181e-04\n",
            "Epoch 86/100\n",
            "494021/494021 [==============================] - 6s 13us/step - loss: 6.3984e-04\n",
            "Epoch 87/100\n",
            "494021/494021 [==============================] - 6s 13us/step - loss: 6.3772e-04\n",
            "Epoch 88/100\n",
            "494021/494021 [==============================] - 6s 13us/step - loss: 6.3607e-04\n",
            "Epoch 89/100\n",
            "494021/494021 [==============================] - 7s 13us/step - loss: 6.3445e-04\n",
            "Epoch 90/100\n",
            "494021/494021 [==============================] - 7s 13us/step - loss: 6.3277e-04\n",
            "Epoch 91/100\n",
            "494021/494021 [==============================] - 6s 13us/step - loss: 6.3124e-04\n",
            "Epoch 92/100\n",
            "494021/494021 [==============================] - 6s 13us/step - loss: 6.2987e-04\n",
            "Epoch 93/100\n",
            "494021/494021 [==============================] - 6s 13us/step - loss: 6.2848e-04\n",
            "Epoch 94/100\n",
            "494021/494021 [==============================] - 6s 13us/step - loss: 6.2713e-04\n",
            "Epoch 95/100\n",
            "494021/494021 [==============================] - 7s 13us/step - loss: 6.2596e-04\n",
            "Epoch 96/100\n",
            "494021/494021 [==============================] - 7s 14us/step - loss: 6.2470e-04\n",
            "Epoch 97/100\n",
            "494021/494021 [==============================] - 7s 13us/step - loss: 6.2374e-04\n",
            "Epoch 98/100\n",
            "494021/494021 [==============================] - 7s 13us/step - loss: 6.2273e-04\n",
            "Epoch 99/100\n",
            "494021/494021 [==============================] - 7s 13us/step - loss: 6.2177e-04\n",
            "Epoch 100/100\n",
            "494021/494021 [==============================] - 6s 13us/step - loss: 6.2065e-04\n"
          ],
          "name": "stdout"
        },
        {
          "output_type": "execute_result",
          "data": {
            "text/plain": [
              "<keras.callbacks.callbacks.History at 0x7f3982accd68>"
            ]
          },
          "metadata": {
            "tags": []
          },
          "execution_count": 10
        }
      ]
    },
    {
      "cell_type": "markdown",
      "metadata": {
        "id": "0SZtG6gIIQ6U",
        "colab_type": "text"
      },
      "source": [
        "Getting the input of the last layer to fed to the second autoencoder."
      ]
    },
    {
      "cell_type": "code",
      "metadata": {
        "id": "Nw4q5urJCDE2",
        "colab_type": "code",
        "colab": {}
      },
      "source": [
        "AE_1_encoded_train = Encoder_1.predict(x_train)\n",
        "AE_1_encoded_test = Encoder_1.predict(x_test)"
      ],
      "execution_count": 0,
      "outputs": []
    },
    {
      "cell_type": "markdown",
      "metadata": {
        "id": "cFqI-wIpLIgB",
        "colab_type": "text"
      },
      "source": [
        "Contruct the second autoencoder, and training it."
      ]
    },
    {
      "cell_type": "code",
      "metadata": {
        "id": "JbK2RTmiLHWE",
        "colab_type": "code",
        "colab": {}
      },
      "source": [
        "K.clear_session()\n",
        "num_hidden = (14, 28, 28)\n",
        "\n",
        "Dense_21 = Dense(units=num_hidden[1], activation='sigmoid')\n",
        "Dense_22 = Dense(units=num_hidden[2], activation='sigmoid')\n",
        "\n",
        "\n",
        "inputs_2 = Input(shape=(num_hidden[0],))\n",
        "\n",
        "#Encoder\n",
        "encoded_21 = Dense_21(inputs_2)\n",
        "encoded_22 = Dense_22(encoded_21)\n",
        "\n",
        "\n",
        "#Decoder\n",
        "decoded_21 = DenseTranspose(Dense_22, activation='sigmoid')(encoded_22)\n",
        "outputs_2 = DenseTranspose(Dense_21, activation='sigmoid')(decoded_21)\n",
        "\n",
        "AE_2=Model(inputs_2, outputs_2)\n",
        "Encoder_2=Model(inputs_2, decoded_21)"
      ],
      "execution_count": 0,
      "outputs": []
    },
    {
      "cell_type": "code",
      "metadata": {
        "id": "YdkpuJpeN5J3",
        "colab_type": "code",
        "colab": {
          "base_uri": "https://localhost:8080/",
          "height": 1000
        },
        "outputId": "b3e999ba-57d4-4cdb-db3a-eab1140464a1"
      },
      "source": [
        "AE_2.compile(optimizer='rmsprop', loss= 'mse')\n",
        "AE_2.fit(AE_1_encoded_train,AE_1_encoded_train,epochs=100,batch_size=256,shuffle=True)"
      ],
      "execution_count": 13,
      "outputs": [
        {
          "output_type": "stream",
          "text": [
            "Epoch 1/100\n",
            "494021/494021 [==============================] - 5s 10us/step - loss: 0.0268\n",
            "Epoch 2/100\n",
            "494021/494021 [==============================] - 5s 10us/step - loss: 0.0012\n",
            "Epoch 3/100\n",
            "494021/494021 [==============================] - 5s 10us/step - loss: 6.5561e-04\n",
            "Epoch 4/100\n",
            "494021/494021 [==============================] - 5s 10us/step - loss: 2.7392e-04\n",
            "Epoch 5/100\n",
            "494021/494021 [==============================] - 5s 10us/step - loss: 1.6577e-04\n",
            "Epoch 6/100\n",
            "494021/494021 [==============================] - 5s 10us/step - loss: 1.2919e-04\n",
            "Epoch 7/100\n",
            "494021/494021 [==============================] - 5s 10us/step - loss: 1.0199e-04\n",
            "Epoch 8/100\n",
            "494021/494021 [==============================] - 5s 10us/step - loss: 7.5854e-05\n",
            "Epoch 9/100\n",
            "494021/494021 [==============================] - 5s 10us/step - loss: 5.4787e-05\n",
            "Epoch 10/100\n",
            "494021/494021 [==============================] - 5s 10us/step - loss: 4.3360e-05\n",
            "Epoch 11/100\n",
            "494021/494021 [==============================] - 5s 11us/step - loss: 3.8964e-05\n",
            "Epoch 12/100\n",
            "494021/494021 [==============================] - 5s 11us/step - loss: 3.5772e-05\n",
            "Epoch 13/100\n",
            "494021/494021 [==============================] - 5s 10us/step - loss: 3.3859e-05\n",
            "Epoch 14/100\n",
            "494021/494021 [==============================] - 5s 10us/step - loss: 3.2589e-05\n",
            "Epoch 15/100\n",
            "494021/494021 [==============================] - 5s 10us/step - loss: 3.1548e-05\n",
            "Epoch 16/100\n",
            "494021/494021 [==============================] - 5s 10us/step - loss: 3.0599e-05\n",
            "Epoch 17/100\n",
            "494021/494021 [==============================] - 5s 10us/step - loss: 2.9759e-05\n",
            "Epoch 18/100\n",
            "494021/494021 [==============================] - 5s 10us/step - loss: 2.9012e-05\n",
            "Epoch 19/100\n",
            "494021/494021 [==============================] - 5s 10us/step - loss: 2.8372e-05\n",
            "Epoch 20/100\n",
            "494021/494021 [==============================] - 5s 10us/step - loss: 2.7804e-05\n",
            "Epoch 21/100\n",
            "494021/494021 [==============================] - 5s 10us/step - loss: 2.7327e-05\n",
            "Epoch 22/100\n",
            "494021/494021 [==============================] - 5s 10us/step - loss: 2.6872e-05\n",
            "Epoch 23/100\n",
            "494021/494021 [==============================] - 5s 10us/step - loss: 2.6490e-05\n",
            "Epoch 24/100\n",
            "494021/494021 [==============================] - 5s 10us/step - loss: 2.6126e-05\n",
            "Epoch 25/100\n",
            "494021/494021 [==============================] - 5s 10us/step - loss: 2.5804e-05\n",
            "Epoch 26/100\n",
            "494021/494021 [==============================] - 5s 10us/step - loss: 2.5464e-05\n",
            "Epoch 27/100\n",
            "494021/494021 [==============================] - 5s 10us/step - loss: 2.5178e-05\n",
            "Epoch 28/100\n",
            "494021/494021 [==============================] - 5s 10us/step - loss: 2.4899e-05\n",
            "Epoch 29/100\n",
            "494021/494021 [==============================] - 5s 10us/step - loss: 2.4675e-05\n",
            "Epoch 30/100\n",
            "494021/494021 [==============================] - 5s 10us/step - loss: 2.4465e-05\n",
            "Epoch 31/100\n",
            "494021/494021 [==============================] - 5s 10us/step - loss: 2.4273e-05\n",
            "Epoch 32/100\n",
            "494021/494021 [==============================] - 5s 10us/step - loss: 2.4102e-05\n",
            "Epoch 33/100\n",
            "494021/494021 [==============================] - 5s 10us/step - loss: 2.3947e-05\n",
            "Epoch 34/100\n",
            "494021/494021 [==============================] - 5s 10us/step - loss: 2.3823e-05\n",
            "Epoch 35/100\n",
            "494021/494021 [==============================] - 5s 10us/step - loss: 2.3690e-05\n",
            "Epoch 36/100\n",
            "494021/494021 [==============================] - 5s 10us/step - loss: 2.3563e-05\n",
            "Epoch 37/100\n",
            "494021/494021 [==============================] - 5s 10us/step - loss: 2.3455e-05\n",
            "Epoch 38/100\n",
            "494021/494021 [==============================] - 5s 10us/step - loss: 2.3364e-05\n",
            "Epoch 39/100\n",
            "494021/494021 [==============================] - 5s 10us/step - loss: 2.3281e-05\n",
            "Epoch 40/100\n",
            "494021/494021 [==============================] - 5s 10us/step - loss: 2.3203e-05\n",
            "Epoch 41/100\n",
            "494021/494021 [==============================] - 5s 10us/step - loss: 2.3125e-05\n",
            "Epoch 42/100\n",
            "494021/494021 [==============================] - 5s 10us/step - loss: 2.3038e-05\n",
            "Epoch 43/100\n",
            "494021/494021 [==============================] - 5s 10us/step - loss: 2.2984e-05\n",
            "Epoch 44/100\n",
            "494021/494021 [==============================] - 5s 10us/step - loss: 2.2918e-05\n",
            "Epoch 45/100\n",
            "494021/494021 [==============================] - 5s 10us/step - loss: 2.2851e-05\n",
            "Epoch 46/100\n",
            "494021/494021 [==============================] - 5s 10us/step - loss: 2.2790e-05\n",
            "Epoch 47/100\n",
            "494021/494021 [==============================] - 5s 10us/step - loss: 2.2734e-05\n",
            "Epoch 48/100\n",
            "494021/494021 [==============================] - 5s 10us/step - loss: 2.2676e-05\n",
            "Epoch 49/100\n",
            "494021/494021 [==============================] - 5s 10us/step - loss: 2.2614e-05\n",
            "Epoch 50/100\n",
            "494021/494021 [==============================] - 5s 10us/step - loss: 2.2563e-05\n",
            "Epoch 51/100\n",
            "494021/494021 [==============================] - 5s 10us/step - loss: 2.2498e-05\n",
            "Epoch 52/100\n",
            "494021/494021 [==============================] - 5s 10us/step - loss: 2.2473e-05\n",
            "Epoch 53/100\n",
            "494021/494021 [==============================] - 5s 10us/step - loss: 2.2417e-05\n",
            "Epoch 54/100\n",
            "494021/494021 [==============================] - 5s 10us/step - loss: 2.2383e-05\n",
            "Epoch 55/100\n",
            "494021/494021 [==============================] - 5s 10us/step - loss: 2.2347e-05\n",
            "Epoch 56/100\n",
            "494021/494021 [==============================] - 5s 10us/step - loss: 2.2292e-05\n",
            "Epoch 57/100\n",
            "494021/494021 [==============================] - 5s 10us/step - loss: 2.2246e-05\n",
            "Epoch 58/100\n",
            "494021/494021 [==============================] - 5s 10us/step - loss: 2.2210e-05\n",
            "Epoch 59/100\n",
            "494021/494021 [==============================] - 5s 10us/step - loss: 2.2164e-05\n",
            "Epoch 60/100\n",
            "494021/494021 [==============================] - 5s 10us/step - loss: 2.2136e-05\n",
            "Epoch 61/100\n",
            "494021/494021 [==============================] - 5s 10us/step - loss: 2.2083e-05\n",
            "Epoch 62/100\n",
            "494021/494021 [==============================] - 5s 10us/step - loss: 2.2061e-05\n",
            "Epoch 63/100\n",
            "494021/494021 [==============================] - 5s 10us/step - loss: 2.2029e-05\n",
            "Epoch 64/100\n",
            "494021/494021 [==============================] - 5s 10us/step - loss: 2.1966e-05\n",
            "Epoch 65/100\n",
            "494021/494021 [==============================] - 5s 10us/step - loss: 2.1943e-05\n",
            "Epoch 66/100\n",
            "494021/494021 [==============================] - 5s 10us/step - loss: 2.1927e-05\n",
            "Epoch 67/100\n",
            "494021/494021 [==============================] - 5s 10us/step - loss: 2.1879e-05\n",
            "Epoch 68/100\n",
            "494021/494021 [==============================] - 5s 10us/step - loss: 2.1857e-05\n",
            "Epoch 69/100\n",
            "494021/494021 [==============================] - 5s 10us/step - loss: 2.1812e-05\n",
            "Epoch 70/100\n",
            "494021/494021 [==============================] - 5s 10us/step - loss: 2.1780e-05\n",
            "Epoch 71/100\n",
            "494021/494021 [==============================] - 5s 10us/step - loss: 2.1773e-05\n",
            "Epoch 72/100\n",
            "494021/494021 [==============================] - 5s 10us/step - loss: 2.1720e-05\n",
            "Epoch 73/100\n",
            "494021/494021 [==============================] - 5s 10us/step - loss: 2.1684e-05\n",
            "Epoch 74/100\n",
            "494021/494021 [==============================] - 5s 10us/step - loss: 2.1664e-05\n",
            "Epoch 75/100\n",
            "494021/494021 [==============================] - 5s 10us/step - loss: 2.1623e-05\n",
            "Epoch 76/100\n",
            "494021/494021 [==============================] - 5s 10us/step - loss: 2.1583e-05\n",
            "Epoch 77/100\n",
            "494021/494021 [==============================] - 5s 10us/step - loss: 2.1561e-05\n",
            "Epoch 78/100\n",
            "494021/494021 [==============================] - 5s 10us/step - loss: 2.1505e-05\n",
            "Epoch 79/100\n",
            "494021/494021 [==============================] - 5s 10us/step - loss: 2.1467e-05\n",
            "Epoch 80/100\n",
            "494021/494021 [==============================] - 5s 10us/step - loss: 2.1412e-05\n",
            "Epoch 81/100\n",
            "494021/494021 [==============================] - 5s 10us/step - loss: 2.1375e-05\n",
            "Epoch 82/100\n",
            "494021/494021 [==============================] - 5s 10us/step - loss: 2.1317e-05\n",
            "Epoch 83/100\n",
            "494021/494021 [==============================] - 5s 10us/step - loss: 2.1247e-05\n",
            "Epoch 84/100\n",
            "494021/494021 [==============================] - 5s 10us/step - loss: 2.1181e-05\n",
            "Epoch 85/100\n",
            "494021/494021 [==============================] - 5s 10us/step - loss: 2.1091e-05\n",
            "Epoch 86/100\n",
            "494021/494021 [==============================] - 5s 10us/step - loss: 2.1016e-05\n",
            "Epoch 87/100\n",
            "494021/494021 [==============================] - 5s 10us/step - loss: 2.0894e-05\n",
            "Epoch 88/100\n",
            "494021/494021 [==============================] - 5s 10us/step - loss: 2.0763e-05\n",
            "Epoch 89/100\n",
            "494021/494021 [==============================] - 5s 10us/step - loss: 2.0633e-05\n",
            "Epoch 90/100\n",
            "494021/494021 [==============================] - 5s 10us/step - loss: 2.0459e-05\n",
            "Epoch 91/100\n",
            "494021/494021 [==============================] - 5s 10us/step - loss: 2.0267e-05\n",
            "Epoch 92/100\n",
            "494021/494021 [==============================] - 5s 10us/step - loss: 2.0117e-05\n",
            "Epoch 93/100\n",
            "494021/494021 [==============================] - 5s 10us/step - loss: 1.9933e-05\n",
            "Epoch 94/100\n",
            "494021/494021 [==============================] - 5s 10us/step - loss: 1.9801e-05\n",
            "Epoch 95/100\n",
            "494021/494021 [==============================] - 5s 10us/step - loss: 1.9692e-05\n",
            "Epoch 96/100\n",
            "494021/494021 [==============================] - 5s 10us/step - loss: 1.9614e-05\n",
            "Epoch 97/100\n",
            "494021/494021 [==============================] - 5s 10us/step - loss: 1.9553e-05\n",
            "Epoch 98/100\n",
            "494021/494021 [==============================] - 5s 10us/step - loss: 1.9506e-05\n",
            "Epoch 99/100\n",
            "494021/494021 [==============================] - 5s 10us/step - loss: 1.9480e-05\n",
            "Epoch 100/100\n",
            "494021/494021 [==============================] - 5s 10us/step - loss: 1.9460e-05\n"
          ],
          "name": "stdout"
        },
        {
          "output_type": "execute_result",
          "data": {
            "text/plain": [
              "<keras.callbacks.callbacks.History at 0x7f3983f3cb00>"
            ]
          },
          "metadata": {
            "tags": []
          },
          "execution_count": 13
        }
      ]
    },
    {
      "cell_type": "markdown",
      "metadata": {
        "id": "E_Th8VugMZnY",
        "colab_type": "text"
      },
      "source": [
        "Getting the input of the last layer to fed to RF algorithm."
      ]
    },
    {
      "cell_type": "code",
      "metadata": {
        "id": "5fghoVIcOU7S",
        "colab_type": "code",
        "colab": {}
      },
      "source": [
        "AE_2_encoded_train = Encoder_2.predict(AE_1_encoded_train)\n",
        "AE_2_encoded_test = Encoder_2.predict(AE_1_encoded_test)"
      ],
      "execution_count": 0,
      "outputs": []
    },
    {
      "cell_type": "code",
      "metadata": {
        "id": "ja9FEAqxObEA",
        "colab_type": "code",
        "colab": {
          "base_uri": "https://localhost:8080/",
          "height": 34
        },
        "outputId": "82b94810-9416-4988-acb9-cfe099b263a7"
      },
      "source": [
        "from sklearn.ensemble import RandomForestClassifier\n",
        "rfc1 = RandomForestClassifier(n_jobs=-1, n_estimators=10)\n",
        "rfc1.fit(AE_2_encoded_train, y_train)\n",
        "rfc1.score(AE_2_encoded_test, y_test)"
      ],
      "execution_count": 15,
      "outputs": [
        {
          "output_type": "execute_result",
          "data": {
            "text/plain": [
              "0.9784775915155662"
            ]
          },
          "metadata": {
            "tags": []
          },
          "execution_count": 15
        }
      ]
    }
  ]
}